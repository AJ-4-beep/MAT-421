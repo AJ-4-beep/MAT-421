{
  "nbformat": 4,
  "nbformat_minor": 0,
  "metadata": {
    "colab": {
      "provenance": [],
      "authorship_tag": "ABX9TyPAaEZlFWYclSX7rFD6otDP",
      "include_colab_link": true
    },
    "kernelspec": {
      "name": "python3",
      "display_name": "Python 3"
    },
    "language_info": {
      "name": "python"
    }
  },
  "cells": [
    {
      "cell_type": "markdown",
      "metadata": {
        "id": "view-in-github",
        "colab_type": "text"
      },
      "source": [
        "<a href=\"https://colab.research.google.com/github/AJ-4-beep/MAT-421/blob/main/ModGpart2HW.ipynb\" target=\"_parent\"><img src=\"https://colab.research.google.com/assets/colab-badge.svg\" alt=\"Open In Colab\"/></a>"
      ]
    },
    {
      "cell_type": "markdown",
      "source": [
        "Submit your Jupyter Notebook files for the following concepts:\n",
        "\n",
        "\n",
        "\n",
        "Simpson’s Rule"
      ],
      "metadata": {
        "id": "qvUFGZDOPg4o"
      }
    },
    {
      "cell_type": "markdown",
      "source": [
        "Simpson's Rule is another method of integrating the area under a curve, and specifically, with 2 consecutive subintervals.\n",
        "\n",
        "It essentially is a method to fit a quadratic equation to given data points, and the resulting line is used for the integration.\n",
        "\n",
        "Generally, Lagrange polynomials are used to establish the equation, from the given data points. Because this integration technique relies on having 2 subsequent subintervals over which to integrate, there must be an even number of intervals in the region of interest, and, thus, an odd number of data points."
      ],
      "metadata": {
        "id": "3ZWnzxhBPhjO"
      }
    },
    {
      "cell_type": "markdown",
      "source": [
        "This technique can be shown in code:\n"
      ],
      "metadata": {
        "id": "rWm5CAaZQ9-v"
      }
    },
    {
      "cell_type": "code",
      "source": [
        "import numpy as np\n",
        "a = 0\n",
        "b = np.pi\n",
        "n = 11\n",
        "\n",
        "h = (b - a) / (n - 1)\n",
        "\n",
        "x = np.linspace(a, b, n)\n",
        "f = np.sin(x)\n",
        "\n",
        "I_simp = (h/3) * (f[0] + 2*sum(f[:n-2:2]) \\\n",
        "\n",
        "  + 4*sum(f[1:n-1:2]) + f[n-1])\n",
        "\n",
        "err_simp = 2 - I_simp\n",
        "print(I_simp)\n",
        "print(err_simp)"
      ],
      "metadata": {
        "colab": {
          "base_uri": "https://localhost:8080/"
        },
        "id": "s3WS4jn-RAKU",
        "outputId": "b6a26092-533b-4fe9-b92c-de190cfcb15f"
      },
      "execution_count": 3,
      "outputs": [
        {
          "output_type": "stream",
          "name": "stdout",
          "text": [
            "2.0001095173150043\n",
            "-0.00010951731500430384\n"
          ]
        }
      ]
    },
    {
      "cell_type": "markdown",
      "source": [
        "In this code, a Simpson's rule polynomial is established and compared against the expected value of 2, given the equation of f equalling sin(x). The expected value of f(x) integrated from x = 0 to x = pi is 2, and the error produced by this estimation is relatively small. This technique uses the subsequent intervals to estimate the value of f(x) integrated over this area."
      ],
      "metadata": {
        "id": "842sBaesRKDu"
      }
    }
  ]
}