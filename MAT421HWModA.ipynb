{
  "nbformat": 4,
  "nbformat_minor": 0,
  "metadata": {
    "colab": {
      "provenance": [],
      "authorship_tag": "ABX9TyNNeRTAlPT8G4BOn7O0ENK7",
      "include_colab_link": true
    },
    "kernelspec": {
      "name": "python3",
      "display_name": "Python 3"
    },
    "language_info": {
      "name": "python"
    }
  },
  "cells": [
    {
      "cell_type": "markdown",
      "metadata": {
        "id": "view-in-github",
        "colab_type": "text"
      },
      "source": [
        "<a href=\"https://colab.research.google.com/github/AJ-4-beep/MAT-421/blob/main/MAT421HWModA.ipynb\" target=\"_parent\"><img src=\"https://colab.research.google.com/assets/colab-badge.svg\" alt=\"Open In Colab\"/></a>"
      ]
    },
    {
      "cell_type": "markdown",
      "source": [
        "Submit link of your Jupyter Notebook files at Github.com  to demonstrate the following concepts\n",
        "\n",
        "Base-N and Binary\n",
        "\n",
        "Floating Point Numbers\n",
        "\n",
        "Round-off Error"
      ],
      "metadata": {
        "id": "EREq6u1ptXd1"
      }
    },
    {
      "cell_type": "markdown",
      "source": [
        "**Base-N and Binary:**\n",
        "\n",
        "Base-N is a way to represent values through numbers; a given value can be deconstructed into a series of digits, which each are multiplied by a chosen \"base\" value that is exponentiated according to where the digit is located on the given value.\n",
        "\n",
        "For example, 432.1, in base 10, can be represented as such:\n",
        "\n"
      ],
      "metadata": {
        "id": "vUhje8E5uPe6"
      }
    },
    {
      "cell_type": "code",
      "source": [
        "# 432.1 in base 10\n",
        "432.1 == 4*(10**2) + 3*(10**1) + 2*(10**0) + 1*(10**-1)"
      ],
      "metadata": {
        "colab": {
          "base_uri": "https://localhost:8080/"
        },
        "id": "TjNj_UPRbANz",
        "outputId": "7db1bf43-adaf-4e57-99d8-bbe21b5399ad"
      },
      "execution_count": 57,
      "outputs": [
        {
          "output_type": "execute_result",
          "data": {
            "text/plain": [
              "True"
            ]
          },
          "metadata": {},
          "execution_count": 57
        }
      ]
    },
    {
      "cell_type": "markdown",
      "source": [
        "As expected, the statement is true; 432.1 is deconstructed into its digits, and each digit is multiplied by an exponentiated base value, a base value whose exponent changes based on the location of the digit in the value. By the nature of separating each digit by this exponentiation, the amount of available digits is equal to the size of the base; in other words, there are only 10 unique digits in a base 10 system, ranging from 0-9 (inclusive).\n",
        "\n",
        "The binary system is just a base-N system where N is 2; namely, there are 2 unique digits, 0 and 1, and a given value in binary has its digits multiplied by 2 exponentiated to a value corresponding to that digits' place in the value.\n",
        "\n",
        "To show this, I will verify the following equation in binary:\n",
        "\n",
        "(6 + 10) * 2 = 32\n",
        "\n",
        "In base 10, this is simple to read: 16 times 2 equals 32. To do this in binary, however, each digit must be represented by only 0 and 1s.\n"
      ],
      "metadata": {
        "id": "Ckp1RDAGbbTE"
      }
    },
    {
      "cell_type": "code",
      "source": [
        "6 == 4 + 2 == 1*(2**2) + 1*(2**1) + 0*(2**0)\n",
        "10 == 8 + 2 == 1*(2**3) + 0*(2**2) + 1*(2**1) + 0*(2**0)\n",
        "2 == 1*(2**1) + 0*(2**0)\n",
        "32 == 1*(2**5) + 0*(2**4) + 0*(2**3) + 0*(2**2) + 0*(2**1) + 0*(2**0)"
      ],
      "metadata": {
        "colab": {
          "base_uri": "https://localhost:8080/"
        },
        "id": "6NgQPlFxgIq2",
        "outputId": "e721d692-4195-48ae-b589-9a7eceb7467b"
      },
      "execution_count": 58,
      "outputs": [
        {
          "output_type": "execute_result",
          "data": {
            "text/plain": [
              "True"
            ]
          },
          "metadata": {},
          "execution_count": 58
        }
      ]
    },
    {
      "cell_type": "markdown",
      "source": [
        "Therefore, 6 is 110, 10 is 1010, 2 is 10, and 32 is 100000. Although the base is different, adding and multiplying (and therefore subtracting and dividing) are the same processes on these values. Thus, I verify the equation in binary:\n"
      ],
      "metadata": {
        "id": "6vBSMxO0hnX9"
      }
    },
    {
      "cell_type": "code",
      "source": [
        "# 110 + 1010 = 10000\n",
        "# 10000 * 10 = 100000\n",
        "# 10000 = 10000\n",
        "\n",
        "32 ==  ( (1*(2**2) + 1*(2**1) + 0*(2**0)) + (1*(2**3) + 0*(2**2) + 1*(2**1) + 0*(2**0)) ) * (1*(2**1) + 0*(2**0))\n",
        "# or alternatively\n",
        "( 1*(2**5) + 0*(2**4) + 0*(2**3) + 0*(2**2) + 0*(2**1) + 0*(2**0) ) == (6 + 10) * 2"
      ],
      "metadata": {
        "colab": {
          "base_uri": "https://localhost:8080/"
        },
        "id": "JlXcRhOliLZW",
        "outputId": "e377842e-25a0-40d3-febe-cb75dbf8f8a9"
      },
      "execution_count": 59,
      "outputs": [
        {
          "output_type": "execute_result",
          "data": {
            "text/plain": [
              "True"
            ]
          },
          "metadata": {},
          "execution_count": 59
        }
      ]
    },
    {
      "cell_type": "markdown",
      "source": [
        "**Floating Point Numbers**\n",
        "\n",
        "Floating point numbers are used because binary is not specific enough for all calculations; these \"floats\" are comprised of bits representing a sign value, an exponent value, and a fraction value. A float n can be represented as:\n",
        "\n",
        "n = (-1)^(s) * 2^(e-1023) * (1+f)\n",
        "\n",
        "where s, e, and f represent values (that are encoded in binary). In 64 bit, 1 bit is allocated to s, 11 to e, and 52 to f. Recall that a bit is just a binary value, so either 0 or 1. This means the first term will either be -1 or 1, therefore affecting the sign of the float. Because e has 11 bits assigned, it can take 2048 values; a subtraction (or bias) of 1023 is made to this exponent so that float values between 0 and 1 can be made ( 2^(-k) will result in a fraction smaller than 1 to help generate these values). And finally, 52 bits are assigned to the f value, allowing for precise values to be generated.\n",
        "\n",
        "Summed up, the first term in a float controls sign, the second is mainly for size (but also for value), and the last is mainly for the actual value represented.\n",
        "\n",
        "Using sys and numpy, a float's characteristics can be better seen:"
      ],
      "metadata": {
        "id": "P9oowJY7j3B6"
      }
    },
    {
      "cell_type": "code",
      "source": [
        "import sys\n",
        "sys.float_info"
      ],
      "metadata": {
        "colab": {
          "base_uri": "https://localhost:8080/"
        },
        "id": "mZd464_2heGO",
        "outputId": "e4987274-13d6-4afd-9276-d60a0c7d7eb6"
      },
      "execution_count": 60,
      "outputs": [
        {
          "output_type": "execute_result",
          "data": {
            "text/plain": [
              "sys.float_info(max=1.7976931348623157e+308, max_exp=1024, max_10_exp=308, min=2.2250738585072014e-308, min_exp=-1021, min_10_exp=-307, dig=15, mant_dig=53, epsilon=2.220446049250313e-16, radix=2, rounds=1)"
            ]
          },
          "metadata": {},
          "execution_count": 60
        }
      ]
    },
    {
      "cell_type": "markdown",
      "source": [
        "One can view the max, minimum, and other associated values for the float and its terms."
      ],
      "metadata": {
        "id": "7NffWtkQhjYS"
      }
    },
    {
      "cell_type": "code",
      "source": [
        "import numpy as np\n",
        "\n",
        "# how much space is between different floats at the value 1e6?\n",
        "#answer:\n",
        "np.spacing(1e6)"
      ],
      "metadata": {
        "colab": {
          "base_uri": "https://localhost:8080/"
        },
        "id": "cg41XD5Yhuum",
        "outputId": "ca622c4c-d4db-48d1-de63-076fa96925fd"
      },
      "execution_count": 61,
      "outputs": [
        {
          "output_type": "execute_result",
          "data": {
            "text/plain": [
              "1.1641532182693481e-10"
            ]
          },
          "metadata": {},
          "execution_count": 61
        }
      ]
    },
    {
      "cell_type": "markdown",
      "source": [
        "On a number line (of countable numbers), each number is separated by 1. Similarly, floats are also separated by values. In the above code, using numpy, one can see that at the value 1e6, the spacing between 1e6 and some other value is (1.1641532182693481e-10). Therefore, if 1e6 is shifted by a value smaller than (1.1641532182693481e-10), then the encoded value will still represent 1e6.\n",
        "\n",
        "(1.1641532182693481e-10) divided by 2 is definitely smaller, so if added to 1e6, and compared for equality to 1e6, both values will be equal."
      ],
      "metadata": {
        "id": "EpFkFsPJiCYL"
      }
    },
    {
      "cell_type": "code",
      "source": [
        "1e6 == 1e6 + ( (1.1641532182693481e-10)  /  2 )"
      ],
      "metadata": {
        "colab": {
          "base_uri": "https://localhost:8080/"
        },
        "id": "Sd6CPGG8i-lR",
        "outputId": "14b6b4a5-a77c-447a-d7f4-553bebe66d76"
      },
      "execution_count": 62,
      "outputs": [
        {
          "output_type": "execute_result",
          "data": {
            "text/plain": [
              "True"
            ]
          },
          "metadata": {},
          "execution_count": 62
        }
      ]
    },
    {
      "cell_type": "markdown",
      "source": [
        "In other words, there is a tolerance, because of the size/value limitations of float values, where even if we know 2 values to be different in reality, that, because their difference is within tolerance, that this difference is ignored, hence 1e6 equalling 1e6 plus something small."
      ],
      "metadata": {
        "id": "1deSKgafjMgn"
      }
    },
    {
      "cell_type": "markdown",
      "source": [
        "In addition, floats have an upper limit and lower limit; when values are too big, overflow occurs, where the float value cannot be assigned to a value, and is instead represented by positive infinity; on the other hand, when a value is too low, it underflows, being assigned to 0. The smallest subnormal (a special term referring to float with e = 0 or e = 2047) value is 2^(-1074), and thus, 2^(-1075) must underflow to 0."
      ],
      "metadata": {
        "id": "WuQJw3Mbjrq-"
      }
    },
    {
      "cell_type": "code",
      "source": [
        "sys.float_info.max + sys.float_info.max"
      ],
      "metadata": {
        "colab": {
          "base_uri": "https://localhost:8080/"
        },
        "id": "X9fk3GtQl80Q",
        "outputId": "9fb01588-8fda-4ddf-8daf-eee9c565a944"
      },
      "execution_count": 63,
      "outputs": [
        {
          "output_type": "execute_result",
          "data": {
            "text/plain": [
              "inf"
            ]
          },
          "metadata": {},
          "execution_count": 63
        }
      ]
    },
    {
      "cell_type": "code",
      "source": [
        "print(2**(-1074))\n",
        "print(2**(-1075))\n",
        "\n",
        "2**-1075 == 0"
      ],
      "metadata": {
        "colab": {
          "base_uri": "https://localhost:8080/"
        },
        "id": "ZP7VhIdGmOZ7",
        "outputId": "ee92c449-f87c-4cc9-8013-f15f8a7ad261"
      },
      "execution_count": 64,
      "outputs": [
        {
          "output_type": "stream",
          "name": "stdout",
          "text": [
            "5e-324\n",
            "0.0\n"
          ]
        },
        {
          "output_type": "execute_result",
          "data": {
            "text/plain": [
              "True"
            ]
          },
          "metadata": {},
          "execution_count": 64
        }
      ]
    },
    {
      "cell_type": "markdown",
      "source": [
        "As shown, the max value overflows to infinity, and while 2^-1074 results in a unique number, 2^-1075 underflows to 0."
      ],
      "metadata": {
        "id": "XwWwXPfWmgAk"
      }
    },
    {
      "cell_type": "markdown",
      "source": [
        "**Round-off Error**\n",
        "\n",
        "Round off error is the error between a calculated value and the actual value used in a computation. Recall that there are tolerances to ascertain whether two values are sufficiently different; this is a related concept. View the following to observe:"
      ],
      "metadata": {
        "id": "fsDphmRcmykp"
      }
    },
    {
      "cell_type": "code",
      "source": [
        "5.1 - 4.945 == 0.155"
      ],
      "metadata": {
        "colab": {
          "base_uri": "https://localhost:8080/"
        },
        "id": "cX3MxXZandC5",
        "outputId": "c0d2097d-39f8-4af3-86ce-fad05b2970e5"
      },
      "execution_count": 65,
      "outputs": [
        {
          "output_type": "execute_result",
          "data": {
            "text/plain": [
              "False"
            ]
          },
          "metadata": {},
          "execution_count": 65
        }
      ]
    },
    {
      "cell_type": "markdown",
      "source": [
        "This is false, even though the equation is true; this occurs because the float values used to represent these terms are only approximations of these terms with very small tolerances; there are still small differences that exist between 5.1 as a number, and 5.1 as a value represented by a float."
      ],
      "metadata": {
        "id": "Bwftm01inj2b"
      }
    },
    {
      "cell_type": "code",
      "source": [
        "5.1 - 4.945"
      ],
      "metadata": {
        "colab": {
          "base_uri": "https://localhost:8080/"
        },
        "id": "TBjKFrPZn7HR",
        "outputId": "d31be1d3-5b5f-479d-9ce8-c2736542c392"
      },
      "execution_count": 66,
      "outputs": [
        {
          "output_type": "execute_result",
          "data": {
            "text/plain": [
              "0.15499999999999936"
            ]
          },
          "metadata": {},
          "execution_count": 66
        }
      ]
    },
    {
      "cell_type": "markdown",
      "source": [
        "One can see this imperfection when the compiler is allowed to calculate the same equation. The round function can be used to remove some of this error, given that the round function is given the correct tolerance for rounding."
      ],
      "metadata": {
        "id": "UB6UHsNxoF3j"
      }
    },
    {
      "cell_type": "code",
      "source": [
        "round(0.155 , 5 ) == round( (5.1 - 4.945) , 5 )"
      ],
      "metadata": {
        "colab": {
          "base_uri": "https://localhost:8080/"
        },
        "id": "LgkM7RKwou5b",
        "outputId": "12adc493-4d43-45a3-f827-5326ae707ce4"
      },
      "execution_count": 67,
      "outputs": [
        {
          "output_type": "execute_result",
          "data": {
            "text/plain": [
              "True"
            ]
          },
          "metadata": {},
          "execution_count": 67
        }
      ]
    },
    {
      "cell_type": "markdown",
      "source": [
        "As seen, when rounded, these values can be equalized. However, in many cases, round off error is accumulated for longer periods of time; in such cases, one can see significant changes in values, that may be too significant to round (given a certain rounding tolerance).\n",
        "\n",
        "The following code will show that even adding \"0\" to a value enough times can result in a value different to the original."
      ],
      "metadata": {
        "id": "0YNO9V7xpFrk"
      }
    },
    {
      "cell_type": "code",
      "source": [
        "\n",
        "def AddSubtract(k):\n",
        "    result = 2\n",
        "\n",
        "    for i in range(k):\n",
        "        result += 1/5\n",
        "\n",
        "    for i in range(k):\n",
        "        result -= 1/5\n",
        "    return result\n",
        "\n",
        "#function to add and subtract 1/5 to the value 2, k times"
      ],
      "metadata": {
        "id": "DyuJf-kopi2q"
      },
      "execution_count": 68,
      "outputs": []
    },
    {
      "cell_type": "code",
      "source": [
        "AddSubtract(1) == 2\n",
        "#verfiying that 2 + 1/5 - 1/5 = 2"
      ],
      "metadata": {
        "colab": {
          "base_uri": "https://localhost:8080/"
        },
        "id": "2vN2I4CMsxod",
        "outputId": "12b4683f-1089-49dc-8aab-e54c5ec2c791"
      },
      "execution_count": 69,
      "outputs": [
        {
          "output_type": "execute_result",
          "data": {
            "text/plain": [
              "True"
            ]
          },
          "metadata": {},
          "execution_count": 69
        }
      ]
    },
    {
      "cell_type": "code",
      "source": [
        "AddSubtract(1000)"
      ],
      "metadata": {
        "colab": {
          "base_uri": "https://localhost:8080/"
        },
        "id": "Gtnl-3Ihs6hr",
        "outputId": "b42cc249-2df1-4d72-b863-0abba53ded3e"
      },
      "execution_count": 70,
      "outputs": [
        {
          "output_type": "execute_result",
          "data": {
            "text/plain": [
              "1.9999999999999984"
            ]
          },
          "metadata": {},
          "execution_count": 70
        }
      ]
    },
    {
      "cell_type": "code",
      "source": [
        "AddSubtract(10000)"
      ],
      "metadata": {
        "colab": {
          "base_uri": "https://localhost:8080/"
        },
        "id": "wmFlnFPxs87p",
        "outputId": "c837c678-d71b-4b29-90de-b21040330c69"
      },
      "execution_count": 71,
      "outputs": [
        {
          "output_type": "execute_result",
          "data": {
            "text/plain": [
              "1.9999999999999123"
            ]
          },
          "metadata": {},
          "execution_count": 71
        }
      ]
    },
    {
      "cell_type": "code",
      "source": [
        "AddSubtract(10000) == AddSubtract(1)\n",
        "# start value not equal to ending"
      ],
      "metadata": {
        "id": "b_JxzF8YuILv",
        "outputId": "70bbd50f-9626-4ad0-ddd7-105a48e30a4e",
        "colab": {
          "base_uri": "https://localhost:8080/"
        }
      },
      "execution_count": 72,
      "outputs": [
        {
          "output_type": "execute_result",
          "data": {
            "text/plain": [
              "False"
            ]
          },
          "metadata": {},
          "execution_count": 72
        }
      ]
    },
    {
      "cell_type": "markdown",
      "source": [
        "As can be seen, over many cycles, because of the fact that floats are only approximations, round off errors can accumulate into bigger errors that a round function may deem as 2 completely different value. In this case, adding and subtracting 1/5 continously should always result in the same original value of 2, but because there are slight imperfections in the ways floats are represented, these errors can accumulate into a different value."
      ],
      "metadata": {
        "id": "hV8QZyaHtVip"
      }
    }
  ]
}