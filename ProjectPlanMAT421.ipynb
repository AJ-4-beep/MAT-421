{
  "nbformat": 4,
  "nbformat_minor": 0,
  "metadata": {
    "colab": {
      "provenance": [],
      "authorship_tag": "ABX9TyP1+Z3Lq1zxb9b26D3L8icg",
      "include_colab_link": true
    },
    "kernelspec": {
      "name": "python3",
      "display_name": "Python 3"
    },
    "language_info": {
      "name": "python"
    }
  },
  "cells": [
    {
      "cell_type": "markdown",
      "metadata": {
        "id": "view-in-github",
        "colab_type": "text"
      },
      "source": [
        "<a href=\"https://colab.research.google.com/github/AJ-4-beep/MAT-421/blob/main/ProjectPlanMAT421.ipynb\" target=\"_parent\"><img src=\"https://colab.research.google.com/assets/colab-badge.svg\" alt=\"Open In Colab\"/></a>"
      ]
    },
    {
      "cell_type": "markdown",
      "source": [
        "Your project plan  (about 2 pages with single space ) should include:\n",
        "\n",
        "1. Introduction to the problem\n",
        "2. Related work\n",
        "\n",
        "3. Proposed methodology/ models\n",
        "\n",
        "4. Experiment setups\n",
        "5. Expected results\n",
        "\n",
        "Each section should include a brief plan for this section.  Your team are encouraged to use github to manage the shared Python code.\n",
        "\n",
        "Please submit your plan as you submit all other homework (in ipynb format).  If you work as group, each student must submit the plan (even the plan is the same for the group)"
      ],
      "metadata": {
        "id": "LjnwZzs4qezM"
      }
    },
    {
      "cell_type": "markdown",
      "source": [
        "1. Intro:\n",
        "\n",
        "Murder rates in the US are seemingly on a decline, a trend that appears to have continued into the 2010s. But, predicting this rate can prove valuable to the understanding of crime, and the appropriate level of governmental response required to fight against crime.\n",
        "\n",
        "From this source: https://www.kaggle.com/datasets/mahmoudshogaa/us-crime-rates-1960-2014\n",
        "\n",
        "There is a dataset of total crime statistics, by year, including murder statistics in the US for each year. Using this data, the goal is to establish a way to predict what the murder rate should have been in future years.\n"
      ],
      "metadata": {
        "id": "Zbty5JLbquWn"
      }
    },
    {
      "cell_type": "markdown",
      "source": [
        "2. Related Work\n",
        "\n",
        "There have been other attempts with similar goals. For example, these articles delve into the crime rate statistics around 2015, and describe the expected rates, and how they calculated them, along with calculating increases/decreases in murder rates across years:\n",
        "https://www.macrotrends.net/global-metrics/countries/usa/united-states/murder-homicide-rate\n",
        "https://www.cdc.gov/nchs/fastats/homicide.htm\n",
        "\n",
        "This work is useful for helping to understand crime rates in the US, and, more specifically, murder rates, but establishing a basic prediction model can further help predict murder rates with higher accuracy."
      ],
      "metadata": {
        "id": "8750E32xr5rm"
      }
    },
    {
      "cell_type": "markdown",
      "source": [
        "3. Proposed methodology\n",
        "\n",
        "This dataset describes, among other things, the total amount of murders per year and the total population in those years. By placing these as x and y variables, with the year being on the x axis and the total amount of murders being on the y axis, I intend to graphically represent these data points in some way.\n",
        "\n",
        "Then, I will create a linear regression line by the least squares method that approximates the best linear fit line for these data points.\n",
        "\n",
        "Through that, I will produce an equation, that I can use to predict what the murder rate should have been in 2015. Then, I can compare that to the actual murder rate in 2015 (that I can source from recorded census data), to see how accurate my regresion line is to reality.\n",
        "\n",
        "Based on how different my estimation is to the actual observed murder rate, I can establish whether or not this method is effective for this dataset."
      ],
      "metadata": {
        "id": "8P8E5ypzsnnB"
      }
    },
    {
      "cell_type": "markdown",
      "source": [
        "4. Experiemnt setups\n",
        "\n",
        "The setup for this is relatively simple, and would mainly be focused around numpy and scikit libraries.\n",
        "\n",
        "The first step would be to import the dataset, and then read in its data. Then, I would likely print a few rows to ensure data integrity and that the data was imported correctly.\n",
        "\n",
        "Then, I could begin to clean and filter out only the necessary data. In this case, I only need to have the murder statistics, the year, and the population columns.\n",
        "\n",
        "I would create a column of the murder rate by year, by dividing the total amount of murders by the total population in each year. Then, I would likely truncate the data set to only include data from 1980 onwards, to reduce the confounding effect of earlier years where data collection may not have been as accurate.\n",
        "\n",
        "Then, I could create a linear regresion model from the remaining data, and thus predict what the rate should have been in 2015, and then compare it to an actual cacluated value reflecting the real murder rate in 2015."
      ],
      "metadata": {
        "id": "0R8yU2LGtz7B"
      }
    },
    {
      "cell_type": "markdown",
      "source": [
        "5. Expecteed results.\n",
        "\n",
        "I expect that the murder rate predicted by my linear regression line to be at least within 10 percent of the actual expected rate, given that there may be outliers in the dataset that can affect the actual regression line fit to the data. Of course, I will analyze the error and coefficient values produced by this regression model, to see how accurate this model really will be, but, overall, I expect a fairly acurate result."
      ],
      "metadata": {
        "id": "mmC1tR_Cu6Ek"
      }
    }
  ]
}