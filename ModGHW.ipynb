{
  "nbformat": 4,
  "nbformat_minor": 0,
  "metadata": {
    "colab": {
      "provenance": [],
      "authorship_tag": "ABX9TyNt2pyDKU9v3nQBjXARMPrK",
      "include_colab_link": true
    },
    "kernelspec": {
      "name": "python3",
      "display_name": "Python 3"
    },
    "language_info": {
      "name": "python"
    }
  },
  "cells": [
    {
      "cell_type": "markdown",
      "metadata": {
        "id": "view-in-github",
        "colab_type": "text"
      },
      "source": [
        "<a href=\"https://colab.research.google.com/github/AJ-4-beep/MAT-421/blob/main/ModGHW.ipynb\" target=\"_parent\"><img src=\"https://colab.research.google.com/assets/colab-badge.svg\" alt=\"Open In Colab\"/></a>"
      ]
    },
    {
      "cell_type": "markdown",
      "source": [
        "Submit your Jupyter Notebook files for the following concepts:\n",
        "\n",
        "\n",
        "\n",
        "Numerical Integration Problem Statement\n",
        "\n",
        "Riemann’s Integral\n",
        "\n",
        "Trapezoid Rule"
      ],
      "metadata": {
        "id": "ju--NPCJCnAt"
      }
    },
    {
      "cell_type": "markdown",
      "source": [
        "Numerical Integration Problem Statement:\n",
        "\n",
        "Over an interval [a,b], with function f(x), to estimate the integral of f(x) over this area (in 2d, the area under the graph), we can make the assumption that this interval's range on the x axis can be divided into (n+1) points, with each point being divided by spacing h = (b-a) / n . Because this interval starts at a = x0, there are n + 1 points to account for the starting point. Parts of this interval are called subintervals, and are defined by [xi , xi+1]\n",
        "\n"
      ],
      "metadata": {
        "id": "a0pWH9UjCpmW"
      }
    },
    {
      "cell_type": "markdown",
      "source": [
        "Riemann’s Integral: This integration technique works off of creating rectangles from subintervals; recall that a subinterval is made from an x coordinate, and its subsequent x coordinate. These x coordinates each correspond to a y value, and a rectangle can be built from the 2 (x,y) pairs. This rectangle is then an approximation of the area spanned across this subinterval. When these estimations are summed up, an estimation has been made for the entire interval.\n",
        "\n",
        "There are 3 main ways to assign the rectangles height, based off of the y coordinates in question. The left y coordinate can be used, the right y coordinate can be used, and the mid point of these 2 coordinates can be used. Generally, the midpoint method will be at least 1 order of accuracy above the left and right methods, as it uses both y coordinates to build its estimation, leading to greater accuracy for what the actual rectangle height should be approximating. This can be shown in code as well:"
      ],
      "metadata": {
        "id": "twXAS99qGxXd"
      }
    },
    {
      "cell_type": "code",
      "source": [
        "import numpy as np\n",
        "\n",
        "a = 0\n",
        "b = np.pi\n",
        "n = 11\n",
        "h = (b - a) / (n - 1)\n",
        "\n",
        "x = np.linspace(a, b, n)\n",
        "f = np.sin(x)\n",
        "\n",
        "I_riemannL = h * sum(f[:n-1])\n",
        "err_riemannL = 2 - I_riemannL\n",
        "\n",
        "I_riemannR = h * sum(f[1::])\n",
        "err_riemannR = 2 - I_riemannR\n",
        "\n",
        "I_mid = h * sum(np.sin((x[:n-1] \\\n",
        "+ x[1:])/2))\n",
        "err_mid = 2 - I_mid\n",
        "\n",
        "print(I_riemannL)\n",
        "print(err_riemannL)\n",
        "print(I_riemannR)\n",
        "print(err_riemannR)\n",
        "print(I_mid)\n",
        "print(err_mid)\n"
      ],
      "metadata": {
        "colab": {
          "base_uri": "https://localhost:8080/"
        },
        "id": "iC_eXDjJJXpm",
        "outputId": "eaae409d-e597-40f6-b89a-1c6711ea4c82"
      },
      "execution_count": 3,
      "outputs": [
        {
          "output_type": "stream",
          "name": "stdout",
          "text": [
            "1.9835235375094546\n",
            "0.01647646249054535\n",
            "1.9835235375094546\n",
            "0.01647646249054535\n",
            "2.0082484079079745\n",
            "-0.008248407907974542\n"
          ]
        }
      ]
    },
    {
      "cell_type": "markdown",
      "source": [
        "Th above code calculates the left, right, and midpoint riemann integrals for sin(x), across 0 to pi, and as seen, the error of the left and right methods is indeed less than the midpoint method, which takes into account both y coordinates when making its estimation."
      ],
      "metadata": {
        "id": "YE7XWI07J0a_"
      }
    },
    {
      "cell_type": "markdown",
      "source": [
        "Trapezoid Rule: The trapezoid rule is effectively the same as the riemann integral, except that trapezoids are used instead of rectangles. By the nature of a trapezoid, they may or may not be a better fit for certain growth/decay functions, as they terminate in a triangular shape, as opposed to the rectangular shape of the riemann integral, which may over or under estimate such functions. This method can also be shown in code:"
      ],
      "metadata": {
        "id": "egvKkMvVKGJ-"
      }
    },
    {
      "cell_type": "code",
      "source": [
        "\n",
        "a = 0\n",
        "b = np.pi\n",
        "n = 11\n",
        "h = (b - a) / (n - 1)\n",
        "\n",
        "x = np.linspace(a, b, n)\n",
        "f = np.sin(x)\n",
        "\n",
        "I_trap = (h/2)*(f[0] + \\\n",
        "2 * sum(f[1:n-1]) + f[n-1])\n",
        "err_trap = 2 - I_trap\n",
        "print(I_trap)\n",
        "print(err_trap)"
      ],
      "metadata": {
        "colab": {
          "base_uri": "https://localhost:8080/"
        },
        "id": "-xSAjY-uLAf0",
        "outputId": "d76f72b4-5a12-4381-b905-48847a2ea6f8"
      },
      "execution_count": 4,
      "outputs": [
        {
          "output_type": "stream",
          "name": "stdout",
          "text": [
            "1.9835235375094546\n",
            "0.01647646249054535\n"
          ]
        }
      ]
    },
    {
      "cell_type": "markdown",
      "source": [
        "Here, the same function is estimated over the same interval, but trapezoids are instead used to estimate the function.\n",
        "\n",
        "Overall, when desiring to estimate a function over a given interval, there are different methods that can be used to do this, each with differing levels of accuracy and calculations required."
      ],
      "metadata": {
        "id": "eEB76PKNLHJz"
      }
    }
  ]
}